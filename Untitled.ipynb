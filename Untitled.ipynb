{
 "cells": [
  {
   "cell_type": "markdown",
   "id": "839191f4-3af7-4758-9f45-04df8b879973",
   "metadata": {},
   "source": [
    "=== Model Representation ===="
   ]
  },
  {
   "cell_type": "markdown",
   "id": "084dcf1b-1822-47e5-bb26-8c8c205b575e",
   "metadata": {},
   "source": [
    "SC ini merupakan data training sederhana"
   ]
  },
  {
   "cell_type": "code",
   "execution_count": 7,
   "id": "63496711-f6d1-4961-b0e5-410b2aa0b002",
   "metadata": {},
   "outputs": [],
   "source": [
    "import numpy as np\n",
    "import matplotlib.pyplot as plt\n",
    "\n",
    "# Dataset (Data Latihan)\n",
    "# Luas rumah (m²)\n",
    "x_train = np.array([100, 200])  # 100 m² dan 200 m²\n",
    "# Harga rumah (Rupiah)\n",
    "y_train = np.array([300_000_000, 500_000_000])  # Rp 300 juta dan Rp 500 juta\n",
    "\n",
    "# ======================\n",
    "# Model Linier f(w,b)\n",
    "def compute_model_output(x, w, b):\n",
    "    return w * x + b\n",
    "\n",
    "# =======================\n",
    "# Fungsi Biaya (Mean Squared Error)\n",
    "def compute_cost(x, y, w, b):\n",
    "    m = x.shape[0]\n",
    "    cost = 0\n",
    "    for i in range(m):\n",
    "        f_wb = w * x[i] + b\n",
    "        cost += (f_wb - y[i])**2\n",
    "    return cost / (2 * m)\n",
    "\n",
    "# =======================\n",
    "# 4️⃣ Algoritma Gradient Descent\n",
    "# =======================\n",
    "def gradient_descent(x, y, w_in, b_in, alpha, num_iters):\n",
    "    m = len(x)\n",
    "    w = w_in\n",
    "    b = b_in\n",
    "    \n",
    "    for i in range(num_iters):\n",
    "        dj_dw = 0\n",
    "        dj_db = 0\n",
    "        for j in range(m):\n",
    "            f_wb = w * x[j] + b\n",
    "            dj_dw += (f_wb - y[j]) * x[j]\n",
    "            dj_db += (f_wb - y[j])\n",
    "        dj_dw /= m\n",
    "        dj_db /= m\n",
    "        \n",
    "        # update parameter\n",
    "        w = w - alpha * dj_dw\n",
    "        b = b - alpha * dj_db\n",
    "        \n",
    "    return w, b\n",
    "\n"
   ]
  },
  {
   "cell_type": "code",
   "execution_count": 8,
   "id": "7b7da43b-5268-43e5-96cf-2f892cd1dd0b",
   "metadata": {},
   "outputs": [
    {
     "name": "stdout",
     "output_type": "stream",
     "text": [
      "Hasil Training:\n",
      "w (kemiringan) = 575121.74\n",
      "b (bias) = 3550.73\n",
      "Model: Harga = 575121.74 * Luas + 3550.73\n"
     ]
    }
   ],
   "source": [
    "# =======================\n",
    "# Latih Model\n",
    "w_init = 0\n",
    "b_init = 0\n",
    "alpha = 0.000000001   # Learning rate kecil karena harga dalam rupiah besar\n",
    "iterations = 10000\n",
    "\n",
    "w_final, b_final = gradient_descent(x_train, y_train, w_init, b_init, alpha, iterations)\n",
    "\n",
    "print(f\"Hasil Training:\")\n",
    "print(f\"w (kemiringan) = {w_final:.2f}\")\n",
    "print(f\"b (bias) = {b_final:.2f}\")\n",
    "print(f\"Model: Harga = {w_final:.2f} * Luas + {b_final:.2f}\")\n",
    "\n"
   ]
  },
  {
   "cell_type": "code",
   "execution_count": 9,
   "id": "2afd9bb6-1695-4a6c-9c21-09f2ac54e750",
   "metadata": {},
   "outputs": [
    {
     "name": "stdout",
     "output_type": "stream",
     "text": [
      "\n",
      "Perkiraan harga rumah seluas 150 m² = Rp 86,271,812\n"
     ]
    }
   ],
   "source": [
    "# =======================\n",
    "# Prediksi\n",
    "x_test = 150  # rumah 150 m²\n",
    "y_pred = compute_model_output(x_test, w_final, b_final)\n",
    "print(f\"\\nPerkiraan harga rumah seluas {x_test} m² = Rp {y_pred:,.0f}\")\n",
    "\n"
   ]
  },
  {
   "cell_type": "code",
   "execution_count": 6,
   "id": "7d367d26-a39d-4b12-95fe-2bf7afe21e44",
   "metadata": {},
   "outputs": [
    {
     "data": {
      "image/png": "[encoded data removed]",
      "text/plain": [
       "<Figure size 640x480 with 1 Axes>"
      ]
     },
     "metadata": {},
     "output_type": "display_data"
    }
   ],
   "source": [
    "# =======================\n",
    "# Visualisasi\n",
    "plt.scatter(x_train, y_train, label='Data Asli', color='blue')\n",
    "plt.plot(x_train, compute_model_output(x_train, w_final, b_final), color='red', label='Model Linear')\n",
    "plt.xlabel(\"Luas Rumah (m²)\")\n",
    "plt.ylabel(\"Harga Rumah (Rupiah)\")\n",
    "plt.title(\"Prediksi Harga Rumah dengan Regresi Linier\")\n",
    "plt.legend()\n",
    "plt.grid(True)\n",
    "plt.show()\n"
   ]
  },
  {
   "cell_type": "code",
   "execution_count": null,
   "id": "74d6118a-3e3e-4b32-9e12-965890b15d1c",
   "metadata": {},
   "outputs": [],
   "source": []
  }
 ],
 "metadata": {
  "kernelspec": {
   "display_name": "Python 3 (ipykernel)",
   "language": "python",
   "name": "python3"
  },
  "language_info": {
   "codemirror_mode": {
    "name": "ipython",
    "version": 3
   },
   "file_extension": ".py",
   "mimetype": "text/x-python",
   "name": "python",
   "nbconvert_exporter": "python",
   "pygments_lexer": "ipython3",
   "version": "3.9.13"
  }
 },
 "nbformat": 4,
 "nbformat_minor": 5
}
